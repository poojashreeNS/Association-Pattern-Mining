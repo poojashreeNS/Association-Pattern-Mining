{
  "nbformat": 4,
  "nbformat_minor": 0,
  "metadata": {
    "colab": {
      "name": "Apriori.ipynb",
      "provenance": [],
      "collapsed_sections": [
        "bEFfWDTl47cj"
      ],
      "authorship_tag": "ABX9TyMGzSw/RNth1LXw3IiRONDW",
      "include_colab_link": true
    },
    "kernelspec": {
      "name": "python3",
      "display_name": "Python 3"
    },
    "language_info": {
      "name": "python"
    }
  },
  "cells": [
    {
      "cell_type": "markdown",
      "metadata": {
        "id": "view-in-github",
        "colab_type": "text"
      },
      "source": [
        "<a href=\"https://colab.research.google.com/github/poojashreeNS/Association-Pattern-Mining/blob/main/Apriori.ipynb\" target=\"_parent\"><img src=\"https://colab.research.google.com/assets/colab-badge.svg\" alt=\"Open In Colab\"/></a>"
      ]
    },
    {
      "cell_type": "code",
      "metadata": {
        "id": "xhsGNi5dMOgL"
      },
      "source": [
        "import pandas as pd\n",
        "import numpy as np"
      ],
      "execution_count": 1,
      "outputs": []
    },
    {
      "cell_type": "code",
      "metadata": {
        "colab": {
          "base_uri": "https://localhost:8080/",
          "height": 677
        },
        "id": "XIkoPnxyNZCy",
        "outputId": "39e5af53-bc3d-4be9-c09f-28034829f0c3"
      },
      "source": [
        "df = pd.read_csv('/content/GroceryStoreDataSet.csv')\n",
        "df.head(30)"
      ],
      "execution_count": 2,
      "outputs": [
        {
          "output_type": "execute_result",
          "data": {
            "text/html": [
              "<div>\n",
              "<style scoped>\n",
              "    .dataframe tbody tr th:only-of-type {\n",
              "        vertical-align: middle;\n",
              "    }\n",
              "\n",
              "    .dataframe tbody tr th {\n",
              "        vertical-align: top;\n",
              "    }\n",
              "\n",
              "    .dataframe thead th {\n",
              "        text-align: right;\n",
              "    }\n",
              "</style>\n",
              "<table border=\"1\" class=\"dataframe\">\n",
              "  <thead>\n",
              "    <tr style=\"text-align: right;\">\n",
              "      <th></th>\n",
              "      <th>id</th>\n",
              "      <th>Items</th>\n",
              "    </tr>\n",
              "  </thead>\n",
              "  <tbody>\n",
              "    <tr>\n",
              "      <th>0</th>\n",
              "      <td>1</td>\n",
              "      <td>MILK,BREAD,BISCUIT</td>\n",
              "    </tr>\n",
              "    <tr>\n",
              "      <th>1</th>\n",
              "      <td>2</td>\n",
              "      <td>BREAD,MILK,BISCUIT,CORNFLAKES</td>\n",
              "    </tr>\n",
              "    <tr>\n",
              "      <th>2</th>\n",
              "      <td>3</td>\n",
              "      <td>BREAD,TEA,BOURNVITA</td>\n",
              "    </tr>\n",
              "    <tr>\n",
              "      <th>3</th>\n",
              "      <td>4</td>\n",
              "      <td>JAM,MAGGI,BREAD,MILK</td>\n",
              "    </tr>\n",
              "    <tr>\n",
              "      <th>4</th>\n",
              "      <td>5</td>\n",
              "      <td>MAGGI,TEA,BISCUIT</td>\n",
              "    </tr>\n",
              "    <tr>\n",
              "      <th>5</th>\n",
              "      <td>6</td>\n",
              "      <td>BREAD,TEA,BOURNVITA</td>\n",
              "    </tr>\n",
              "    <tr>\n",
              "      <th>6</th>\n",
              "      <td>7</td>\n",
              "      <td>MAGGI,TEA,CORNFLAKES</td>\n",
              "    </tr>\n",
              "    <tr>\n",
              "      <th>7</th>\n",
              "      <td>8</td>\n",
              "      <td>MAGGI,BREAD,TEA,BISCUIT</td>\n",
              "    </tr>\n",
              "    <tr>\n",
              "      <th>8</th>\n",
              "      <td>9</td>\n",
              "      <td>JAM,MAGGI,BREAD,TEA</td>\n",
              "    </tr>\n",
              "    <tr>\n",
              "      <th>9</th>\n",
              "      <td>10</td>\n",
              "      <td>BREAD,MILK</td>\n",
              "    </tr>\n",
              "    <tr>\n",
              "      <th>10</th>\n",
              "      <td>11</td>\n",
              "      <td>COFFEE,COCK,BISCUIT,CORNFLAKES</td>\n",
              "    </tr>\n",
              "    <tr>\n",
              "      <th>11</th>\n",
              "      <td>12</td>\n",
              "      <td>COFFEE,COCK,BISCUIT,CORNFLAKES</td>\n",
              "    </tr>\n",
              "    <tr>\n",
              "      <th>12</th>\n",
              "      <td>13</td>\n",
              "      <td>COFFEE,SUGER,BOURNVITA</td>\n",
              "    </tr>\n",
              "    <tr>\n",
              "      <th>13</th>\n",
              "      <td>14</td>\n",
              "      <td>BREAD,COFFEE,COCK</td>\n",
              "    </tr>\n",
              "    <tr>\n",
              "      <th>14</th>\n",
              "      <td>15</td>\n",
              "      <td>BREAD,SUGER,BISCUIT</td>\n",
              "    </tr>\n",
              "    <tr>\n",
              "      <th>15</th>\n",
              "      <td>16</td>\n",
              "      <td>COFFEE,SUGER,CORNFLAKES</td>\n",
              "    </tr>\n",
              "    <tr>\n",
              "      <th>16</th>\n",
              "      <td>17</td>\n",
              "      <td>BREAD,SUGER,BOURNVITA</td>\n",
              "    </tr>\n",
              "    <tr>\n",
              "      <th>17</th>\n",
              "      <td>18</td>\n",
              "      <td>BREAD,COFFEE,SUGER</td>\n",
              "    </tr>\n",
              "    <tr>\n",
              "      <th>18</th>\n",
              "      <td>19</td>\n",
              "      <td>BREAD,COFFEE,SUGER</td>\n",
              "    </tr>\n",
              "    <tr>\n",
              "      <th>19</th>\n",
              "      <td>20</td>\n",
              "      <td>TEA,MILK,COFFEE,CORNFLAKES</td>\n",
              "    </tr>\n",
              "  </tbody>\n",
              "</table>\n",
              "</div>"
            ],
            "text/plain": [
              "    id                           Items\n",
              "0    1              MILK,BREAD,BISCUIT\n",
              "1    2   BREAD,MILK,BISCUIT,CORNFLAKES\n",
              "2    3             BREAD,TEA,BOURNVITA\n",
              "3    4            JAM,MAGGI,BREAD,MILK\n",
              "4    5               MAGGI,TEA,BISCUIT\n",
              "5    6             BREAD,TEA,BOURNVITA\n",
              "6    7            MAGGI,TEA,CORNFLAKES\n",
              "7    8         MAGGI,BREAD,TEA,BISCUIT\n",
              "8    9             JAM,MAGGI,BREAD,TEA\n",
              "9   10                      BREAD,MILK\n",
              "10  11  COFFEE,COCK,BISCUIT,CORNFLAKES\n",
              "11  12  COFFEE,COCK,BISCUIT,CORNFLAKES\n",
              "12  13          COFFEE,SUGER,BOURNVITA\n",
              "13  14               BREAD,COFFEE,COCK\n",
              "14  15             BREAD,SUGER,BISCUIT\n",
              "15  16         COFFEE,SUGER,CORNFLAKES\n",
              "16  17           BREAD,SUGER,BOURNVITA\n",
              "17  18              BREAD,COFFEE,SUGER\n",
              "18  19              BREAD,COFFEE,SUGER\n",
              "19  20      TEA,MILK,COFFEE,CORNFLAKES"
            ]
          },
          "metadata": {},
          "execution_count": 2
        }
      ]
    },
    {
      "cell_type": "code",
      "metadata": {
        "colab": {
          "base_uri": "https://localhost:8080/"
        },
        "id": "Y2Mf14GFNhd2",
        "outputId": "2072f6d7-7071-47ee-d683-77b820d7a9c5"
      },
      "source": [
        "df.shape"
      ],
      "execution_count": 3,
      "outputs": [
        {
          "output_type": "execute_result",
          "data": {
            "text/plain": [
              "(20, 2)"
            ]
          },
          "metadata": {},
          "execution_count": 3
        }
      ]
    },
    {
      "cell_type": "code",
      "metadata": {
        "colab": {
          "base_uri": "https://localhost:8080/"
        },
        "id": "03VCmGB6YB4Z",
        "outputId": "8c40c548-1d12-4319-fd07-2130068a3b32"
      },
      "source": [
        "def location_preprocessing(text):\n",
        "\n",
        "  \"\"\"\n",
        "  Function to Preprocess the features having location names.\n",
        "  \"\"\"\n",
        "  text = text.split(\",\")          # Obtain individual Items\n",
        "\n",
        "  lst_text = [x.lower() for x in text]    # Lowercase names\n",
        "\n",
        "  text = \" \".join(lst_text)               # Convert to string from list\n",
        "\n",
        "  return text\n",
        "\n",
        "df['Items'] = df['Items'].apply(lambda x: location_preprocessing(x))\n",
        "\n",
        "print(df['Items'])"
      ],
      "execution_count": 4,
      "outputs": [
        {
          "output_type": "stream",
          "name": "stdout",
          "text": [
            "0                 milk bread biscuit\n",
            "1      bread milk biscuit cornflakes\n",
            "2                bread tea bournvita\n",
            "3               jam maggi bread milk\n",
            "4                  maggi tea biscuit\n",
            "5                bread tea bournvita\n",
            "6               maggi tea cornflakes\n",
            "7            maggi bread tea biscuit\n",
            "8                jam maggi bread tea\n",
            "9                         bread milk\n",
            "10    coffee cock biscuit cornflakes\n",
            "11    coffee cock biscuit cornflakes\n",
            "12            coffee suger bournvita\n",
            "13                 bread coffee cock\n",
            "14               bread suger biscuit\n",
            "15           coffee suger cornflakes\n",
            "16             bread suger bournvita\n",
            "17                bread coffee suger\n",
            "18                bread coffee suger\n",
            "19        tea milk coffee cornflakes\n",
            "Name: Items, dtype: object\n"
          ]
        }
      ]
    },
    {
      "cell_type": "code",
      "metadata": {
        "id": "uPBfEqCxZCd0"
      },
      "source": [
        "df.Items = df.Items.str.split(\" \")\n",
        "df_out = pd.concat(\n",
        "    [\n",
        "        df.explode(\"Items\")\n",
        "        .pivot_table(index=\"id\", columns=\"Items\", aggfunc=\"size\", fill_value=0)\n",
        "    ],\n",
        "    axis=1,\n",
        ")\n"
      ],
      "execution_count": 5,
      "outputs": []
    },
    {
      "cell_type": "code",
      "metadata": {
        "id": "7U1m4SmZasXM"
      },
      "source": [
        "pd.set_option(\"display.max_rows\", 20, \"display.max_columns\", 20)"
      ],
      "execution_count": 6,
      "outputs": []
    },
    {
      "cell_type": "code",
      "metadata": {
        "colab": {
          "base_uri": "https://localhost:8080/"
        },
        "id": "pkAKlD5qax1J",
        "outputId": "52a88687-47fa-4eab-b708-4ee354534841"
      },
      "source": [
        "print(df_out)"
      ],
      "execution_count": 7,
      "outputs": [
        {
          "output_type": "stream",
          "name": "stdout",
          "text": [
            "Items  biscuit  bournvita  bread  cock  coffee  cornflakes  jam  maggi  milk  \\\n",
            "id                                                                             \n",
            "1            1          0      1     0       0           0    0      0     1   \n",
            "2            1          0      1     0       0           1    0      0     1   \n",
            "3            0          1      1     0       0           0    0      0     0   \n",
            "4            0          0      1     0       0           0    1      1     1   \n",
            "5            1          0      0     0       0           0    0      1     0   \n",
            "6            0          1      1     0       0           0    0      0     0   \n",
            "7            0          0      0     0       0           1    0      1     0   \n",
            "8            1          0      1     0       0           0    0      1     0   \n",
            "9            0          0      1     0       0           0    1      1     0   \n",
            "10           0          0      1     0       0           0    0      0     1   \n",
            "11           1          0      0     1       1           1    0      0     0   \n",
            "12           1          0      0     1       1           1    0      0     0   \n",
            "13           0          1      0     0       1           0    0      0     0   \n",
            "14           0          0      1     1       1           0    0      0     0   \n",
            "15           1          0      1     0       0           0    0      0     0   \n",
            "16           0          0      0     0       1           1    0      0     0   \n",
            "17           0          1      1     0       0           0    0      0     0   \n",
            "18           0          0      1     0       1           0    0      0     0   \n",
            "19           0          0      1     0       1           0    0      0     0   \n",
            "20           0          0      0     0       1           1    0      0     1   \n",
            "\n",
            "Items  suger  tea  \n",
            "id                 \n",
            "1          0    0  \n",
            "2          0    0  \n",
            "3          0    1  \n",
            "4          0    0  \n",
            "5          0    1  \n",
            "6          0    1  \n",
            "7          0    1  \n",
            "8          0    1  \n",
            "9          0    1  \n",
            "10         0    0  \n",
            "11         0    0  \n",
            "12         0    0  \n",
            "13         1    0  \n",
            "14         0    0  \n",
            "15         1    0  \n",
            "16         1    0  \n",
            "17         1    0  \n",
            "18         1    0  \n",
            "19         1    0  \n",
            "20         0    1  \n"
          ]
        }
      ]
    },
    {
      "cell_type": "code",
      "metadata": {
        "colab": {
          "base_uri": "https://localhost:8080/"
        },
        "id": "Mwx2nlqvbOJh",
        "outputId": "16175f0a-355c-437d-92b2-67d1ee1eb339"
      },
      "source": [
        "df_out.sum()"
      ],
      "execution_count": 8,
      "outputs": [
        {
          "output_type": "execute_result",
          "data": {
            "text/plain": [
              "Items\n",
              "biscuit        7\n",
              "bournvita      4\n",
              "bread         13\n",
              "cock           3\n",
              "coffee         8\n",
              "cornflakes     6\n",
              "jam            2\n",
              "maggi          5\n",
              "milk           5\n",
              "suger          6\n",
              "tea            7\n",
              "dtype: int64"
            ]
          },
          "metadata": {},
          "execution_count": 8
        }
      ]
    },
    {
      "cell_type": "markdown",
      "metadata": {
        "id": "zV77oX2ocgz3"
      },
      "source": [
        "# **FROM SCRATCH WITHOUT APRIORI:** mlxtend package helps us to analyze association rules problems."
      ]
    },
    {
      "cell_type": "markdown",
      "metadata": {
        "id": "x6cR41IHDHqw"
      },
      "source": [
        "***Finding support using formula***"
      ]
    },
    {
      "cell_type": "code",
      "metadata": {
        "id": "zG7Sy2lKbUiB"
      },
      "source": [
        "# Product Frequency / Total Sales\n",
        "first = pd.DataFrame(df_out.sum() / df_out.shape[0], columns = [\"Support\"]).sort_values(\"Support\", ascending = False)\n",
        "first"
      ],
      "execution_count": null,
      "outputs": []
    },
    {
      "cell_type": "markdown",
      "metadata": {
        "id": "3Ps1OuJhDOFI"
      },
      "source": [
        "***Eliminating values less than minimum support***"
      ]
    },
    {
      "cell_type": "code",
      "metadata": {
        "id": "ztSc_HCSbgIR"
      },
      "source": [
        "# Elimination by Support Value\n",
        "first[first.Support >= 0.15]"
      ],
      "execution_count": null,
      "outputs": []
    },
    {
      "cell_type": "markdown",
      "metadata": {
        "id": "MJxM_NSnbn1J"
      },
      "source": [
        "***Second Iteration: Find support values for pair product combinations.***"
      ]
    },
    {
      "cell_type": "code",
      "metadata": {
        "id": "NmYBFUq7blGA"
      },
      "source": [
        "from itertools import combinations\n",
        "\n",
        "second = list(combinations(first.index, 2))\n",
        "second = [list(i) for i in second]\n",
        "second"
      ],
      "execution_count": null,
      "outputs": []
    },
    {
      "cell_type": "markdown",
      "metadata": {
        "id": "undaMyZjDYvO"
      },
      "source": [
        "***Find support values with 2 combinations***"
      ]
    },
    {
      "cell_type": "code",
      "metadata": {
        "id": "bA5uOjw_cH9a"
      },
      "source": [
        "# Finding support values\n",
        "value = []\n",
        "for i in range(0, len(second)):\n",
        "    temp = df_out.T.loc[second[i]].sum() \n",
        "    temp = len(temp[temp == df_out.T.loc[second[i]].shape[0]]) / df_out.shape[0]\n",
        "    value.append(temp)\n",
        "# Create a data frame            \n",
        "secondIteration = pd.DataFrame(value, columns = [\"Support\"])\n",
        "secondIteration[\"index\"] = [tuple(i) for i in second]\n",
        "secondIteration['length'] = secondIteration['index'].apply(lambda x:len(x))\n",
        "secondIteration = secondIteration.set_index(\"index\").sort_values(\"Support\", ascending = False)\n",
        "# Elimination by Support Value\n",
        "secondIteration = secondIteration[secondIteration.Support > 0.1]\n",
        "secondIteration"
      ],
      "execution_count": null,
      "outputs": []
    },
    {
      "cell_type": "markdown",
      "metadata": {
        "id": "FafoZvFKDf6w"
      },
      "source": [
        "***Finding support for given number of combinations***"
      ]
    },
    {
      "cell_type": "code",
      "metadata": {
        "id": "zOHopVgqcT_-"
      },
      "source": [
        "def ar_iterations(data, num_iter = 1, support_value = 0.1, iterationIndex = None):\n",
        "    \n",
        "    # Next Iterations\n",
        "    def ar_calculation(iterationIndex = iterationIndex): \n",
        "        # Calculation of support value\n",
        "        value = []\n",
        "        for i in range(0, len(iterationIndex)):\n",
        "            result = data.T.loc[iterationIndex[i]].sum() \n",
        "            result = len(result[result == data.T.loc[iterationIndex[i]].shape[0]]) / data.shape[0]\n",
        "            value.append(result)\n",
        "        # Bind results\n",
        "        result = pd.DataFrame(value, columns = [\"Support\"])\n",
        "        result[\"index\"] = [tuple(i) for i in iterationIndex]\n",
        "        result['length'] = result['index'].apply(lambda x:len(x))\n",
        "        result = result.set_index(\"index\").sort_values(\"Support\", ascending = False)\n",
        "        # Elimination by Support Value\n",
        "        result = result[result.Support > support_value]\n",
        "        return result    \n",
        "    \n",
        "    # First Iteration\n",
        "    first = pd.DataFrame(df_out.T.sum(axis = 1) / df_out.shape[0], columns = [\"Support\"]).sort_values(\"Support\", ascending = False)\n",
        "    first = first[first.Support > support_value]\n",
        "    first[\"length\"] = 1\n",
        "    \n",
        "    if num_iter == 1:\n",
        "        res = first.copy()\n",
        "        \n",
        "    # Second Iteration\n",
        "    elif num_iter == 2:\n",
        "        \n",
        "        second = list(combinations(first.index, 2))\n",
        "        second = [list(i) for i in second]\n",
        "        res = ar_calculation(second)\n",
        "        \n",
        "    # All Iterations > 2\n",
        "    else:\n",
        "        nth = list(combinations(set(list(chain(*iterationIndex))), num_iter))\n",
        "        nth = [list(i) for i in nth]\n",
        "        res = ar_calculation(nth)\n",
        "    \n",
        "    return res"
      ],
      "execution_count": 13,
      "outputs": []
    },
    {
      "cell_type": "markdown",
      "metadata": {
        "id": "sLKtGkikDouK"
      },
      "source": [
        "***Combination 1***"
      ]
    },
    {
      "cell_type": "code",
      "metadata": {
        "colab": {
          "base_uri": "https://localhost:8080/",
          "height": 394
        },
        "id": "LzZU6sgXc9Bu",
        "outputId": "910d0bff-15ab-4cfc-877f-6e9668c93d66"
      },
      "source": [
        "iteration1 = ar_iterations(df_out, num_iter=1, support_value=0.1)\n",
        "iteration1"
      ],
      "execution_count": 14,
      "outputs": [
        {
          "output_type": "execute_result",
          "data": {
            "text/html": [
              "<div>\n",
              "<style scoped>\n",
              "    .dataframe tbody tr th:only-of-type {\n",
              "        vertical-align: middle;\n",
              "    }\n",
              "\n",
              "    .dataframe tbody tr th {\n",
              "        vertical-align: top;\n",
              "    }\n",
              "\n",
              "    .dataframe thead th {\n",
              "        text-align: right;\n",
              "    }\n",
              "</style>\n",
              "<table border=\"1\" class=\"dataframe\">\n",
              "  <thead>\n",
              "    <tr style=\"text-align: right;\">\n",
              "      <th></th>\n",
              "      <th>Support</th>\n",
              "      <th>length</th>\n",
              "    </tr>\n",
              "    <tr>\n",
              "      <th>Items</th>\n",
              "      <th></th>\n",
              "      <th></th>\n",
              "    </tr>\n",
              "  </thead>\n",
              "  <tbody>\n",
              "    <tr>\n",
              "      <th>bread</th>\n",
              "      <td>0.65</td>\n",
              "      <td>1</td>\n",
              "    </tr>\n",
              "    <tr>\n",
              "      <th>coffee</th>\n",
              "      <td>0.40</td>\n",
              "      <td>1</td>\n",
              "    </tr>\n",
              "    <tr>\n",
              "      <th>biscuit</th>\n",
              "      <td>0.35</td>\n",
              "      <td>1</td>\n",
              "    </tr>\n",
              "    <tr>\n",
              "      <th>tea</th>\n",
              "      <td>0.35</td>\n",
              "      <td>1</td>\n",
              "    </tr>\n",
              "    <tr>\n",
              "      <th>cornflakes</th>\n",
              "      <td>0.30</td>\n",
              "      <td>1</td>\n",
              "    </tr>\n",
              "    <tr>\n",
              "      <th>suger</th>\n",
              "      <td>0.30</td>\n",
              "      <td>1</td>\n",
              "    </tr>\n",
              "    <tr>\n",
              "      <th>maggi</th>\n",
              "      <td>0.25</td>\n",
              "      <td>1</td>\n",
              "    </tr>\n",
              "    <tr>\n",
              "      <th>milk</th>\n",
              "      <td>0.25</td>\n",
              "      <td>1</td>\n",
              "    </tr>\n",
              "    <tr>\n",
              "      <th>bournvita</th>\n",
              "      <td>0.20</td>\n",
              "      <td>1</td>\n",
              "    </tr>\n",
              "    <tr>\n",
              "      <th>cock</th>\n",
              "      <td>0.15</td>\n",
              "      <td>1</td>\n",
              "    </tr>\n",
              "  </tbody>\n",
              "</table>\n",
              "</div>"
            ],
            "text/plain": [
              "            Support  length\n",
              "Items                      \n",
              "bread          0.65       1\n",
              "coffee         0.40       1\n",
              "biscuit        0.35       1\n",
              "tea            0.35       1\n",
              "cornflakes     0.30       1\n",
              "suger          0.30       1\n",
              "maggi          0.25       1\n",
              "milk           0.25       1\n",
              "bournvita      0.20       1\n",
              "cock           0.15       1"
            ]
          },
          "metadata": {},
          "execution_count": 14
        }
      ]
    },
    {
      "cell_type": "markdown",
      "metadata": {
        "id": "4wfpIwjGDs1e"
      },
      "source": [
        "***2 Item combination***"
      ]
    },
    {
      "cell_type": "code",
      "metadata": {
        "colab": {
          "base_uri": "https://localhost:8080/",
          "height": 457
        },
        "id": "YvGr9EoudCeJ",
        "outputId": "0a52295d-3b56-4149-ae5f-a8eb9584e2de"
      },
      "source": [
        "iteration2 = ar_iterations(df_out, num_iter=2, support_value=0.1)\n",
        "iteration2"
      ],
      "execution_count": 15,
      "outputs": [
        {
          "output_type": "execute_result",
          "data": {
            "text/html": [
              "<div>\n",
              "<style scoped>\n",
              "    .dataframe tbody tr th:only-of-type {\n",
              "        vertical-align: middle;\n",
              "    }\n",
              "\n",
              "    .dataframe tbody tr th {\n",
              "        vertical-align: top;\n",
              "    }\n",
              "\n",
              "    .dataframe thead th {\n",
              "        text-align: right;\n",
              "    }\n",
              "</style>\n",
              "<table border=\"1\" class=\"dataframe\">\n",
              "  <thead>\n",
              "    <tr style=\"text-align: right;\">\n",
              "      <th></th>\n",
              "      <th>Support</th>\n",
              "      <th>length</th>\n",
              "    </tr>\n",
              "    <tr>\n",
              "      <th>index</th>\n",
              "      <th></th>\n",
              "      <th></th>\n",
              "    </tr>\n",
              "  </thead>\n",
              "  <tbody>\n",
              "    <tr>\n",
              "      <th>(coffee, cornflakes)</th>\n",
              "      <td>0.20</td>\n",
              "      <td>2</td>\n",
              "    </tr>\n",
              "    <tr>\n",
              "      <th>(bread, tea)</th>\n",
              "      <td>0.20</td>\n",
              "      <td>2</td>\n",
              "    </tr>\n",
              "    <tr>\n",
              "      <th>(tea, maggi)</th>\n",
              "      <td>0.20</td>\n",
              "      <td>2</td>\n",
              "    </tr>\n",
              "    <tr>\n",
              "      <th>(bread, suger)</th>\n",
              "      <td>0.20</td>\n",
              "      <td>2</td>\n",
              "    </tr>\n",
              "    <tr>\n",
              "      <th>(bread, biscuit)</th>\n",
              "      <td>0.20</td>\n",
              "      <td>2</td>\n",
              "    </tr>\n",
              "    <tr>\n",
              "      <th>(bread, milk)</th>\n",
              "      <td>0.20</td>\n",
              "      <td>2</td>\n",
              "    </tr>\n",
              "    <tr>\n",
              "      <th>(coffee, suger)</th>\n",
              "      <td>0.20</td>\n",
              "      <td>2</td>\n",
              "    </tr>\n",
              "    <tr>\n",
              "      <th>(bread, coffee)</th>\n",
              "      <td>0.15</td>\n",
              "      <td>2</td>\n",
              "    </tr>\n",
              "    <tr>\n",
              "      <th>(coffee, cock)</th>\n",
              "      <td>0.15</td>\n",
              "      <td>2</td>\n",
              "    </tr>\n",
              "    <tr>\n",
              "      <th>(biscuit, cornflakes)</th>\n",
              "      <td>0.15</td>\n",
              "      <td>2</td>\n",
              "    </tr>\n",
              "    <tr>\n",
              "      <th>(bread, bournvita)</th>\n",
              "      <td>0.15</td>\n",
              "      <td>2</td>\n",
              "    </tr>\n",
              "    <tr>\n",
              "      <th>(bread, maggi)</th>\n",
              "      <td>0.15</td>\n",
              "      <td>2</td>\n",
              "    </tr>\n",
              "  </tbody>\n",
              "</table>\n",
              "</div>"
            ],
            "text/plain": [
              "                       Support  length\n",
              "index                                 \n",
              "(coffee, cornflakes)      0.20       2\n",
              "(bread, tea)              0.20       2\n",
              "(tea, maggi)              0.20       2\n",
              "(bread, suger)            0.20       2\n",
              "(bread, biscuit)          0.20       2\n",
              "(bread, milk)             0.20       2\n",
              "(coffee, suger)           0.20       2\n",
              "(bread, coffee)           0.15       2\n",
              "(coffee, cock)            0.15       2\n",
              "(biscuit, cornflakes)     0.15       2\n",
              "(bread, bournvita)        0.15       2\n",
              "(bread, maggi)            0.15       2"
            ]
          },
          "metadata": {},
          "execution_count": 15
        }
      ]
    },
    {
      "cell_type": "markdown",
      "metadata": {
        "id": "I6Zq7OUGDx4j"
      },
      "source": [
        "***3 Item combination***"
      ]
    },
    {
      "cell_type": "code",
      "metadata": {
        "colab": {
          "base_uri": "https://localhost:8080/",
          "height": 455
        },
        "id": "9_31WVJOdVzV",
        "outputId": "5534a316-1758-48e4-c4da-1214dfdcb4e7"
      },
      "source": [
        "from itertools import chain\n",
        "\n",
        "iteration3 = ar_iterations(df_out, num_iter=3, support_value=0.01,\n",
        "              iterationIndex=iteration2.index)\n",
        "iteration3"
      ],
      "execution_count": 16,
      "outputs": [
        {
          "output_type": "execute_result",
          "data": {
            "text/html": [
              "<div>\n",
              "<style scoped>\n",
              "    .dataframe tbody tr th:only-of-type {\n",
              "        vertical-align: middle;\n",
              "    }\n",
              "\n",
              "    .dataframe tbody tr th {\n",
              "        vertical-align: top;\n",
              "    }\n",
              "\n",
              "    .dataframe thead th {\n",
              "        text-align: right;\n",
              "    }\n",
              "</style>\n",
              "<table border=\"1\" class=\"dataframe\">\n",
              "  <thead>\n",
              "    <tr style=\"text-align: right;\">\n",
              "      <th></th>\n",
              "      <th>Support</th>\n",
              "      <th>length</th>\n",
              "    </tr>\n",
              "    <tr>\n",
              "      <th>index</th>\n",
              "      <th></th>\n",
              "      <th></th>\n",
              "    </tr>\n",
              "  </thead>\n",
              "  <tbody>\n",
              "    <tr>\n",
              "      <th>(cock, biscuit, cornflakes)</th>\n",
              "      <td>0.10</td>\n",
              "      <td>3</td>\n",
              "    </tr>\n",
              "    <tr>\n",
              "      <th>(bread, biscuit, milk)</th>\n",
              "      <td>0.10</td>\n",
              "      <td>3</td>\n",
              "    </tr>\n",
              "    <tr>\n",
              "      <th>(coffee, cock, cornflakes)</th>\n",
              "      <td>0.10</td>\n",
              "      <td>3</td>\n",
              "    </tr>\n",
              "    <tr>\n",
              "      <th>(coffee, cock, biscuit)</th>\n",
              "      <td>0.10</td>\n",
              "      <td>3</td>\n",
              "    </tr>\n",
              "    <tr>\n",
              "      <th>(maggi, biscuit, tea)</th>\n",
              "      <td>0.10</td>\n",
              "      <td>3</td>\n",
              "    </tr>\n",
              "    <tr>\n",
              "      <th>...</th>\n",
              "      <td>...</td>\n",
              "      <td>...</td>\n",
              "    </tr>\n",
              "    <tr>\n",
              "      <th>(bread, biscuit, tea)</th>\n",
              "      <td>0.05</td>\n",
              "      <td>3</td>\n",
              "    </tr>\n",
              "    <tr>\n",
              "      <th>(bread, cornflakes, milk)</th>\n",
              "      <td>0.05</td>\n",
              "      <td>3</td>\n",
              "    </tr>\n",
              "    <tr>\n",
              "      <th>(coffee, bread, cock)</th>\n",
              "      <td>0.05</td>\n",
              "      <td>3</td>\n",
              "    </tr>\n",
              "    <tr>\n",
              "      <th>(biscuit, cornflakes, milk)</th>\n",
              "      <td>0.05</td>\n",
              "      <td>3</td>\n",
              "    </tr>\n",
              "    <tr>\n",
              "      <th>(cornflakes, milk, tea)</th>\n",
              "      <td>0.05</td>\n",
              "      <td>3</td>\n",
              "    </tr>\n",
              "  </tbody>\n",
              "</table>\n",
              "<p>25 rows × 2 columns</p>\n",
              "</div>"
            ],
            "text/plain": [
              "                             Support  length\n",
              "index                                       \n",
              "(cock, biscuit, cornflakes)     0.10       3\n",
              "(bread, biscuit, milk)          0.10       3\n",
              "(coffee, cock, cornflakes)      0.10       3\n",
              "(coffee, cock, biscuit)         0.10       3\n",
              "(maggi, biscuit, tea)           0.10       3\n",
              "...                              ...     ...\n",
              "(bread, biscuit, tea)           0.05       3\n",
              "(bread, cornflakes, milk)       0.05       3\n",
              "(coffee, bread, cock)           0.05       3\n",
              "(biscuit, cornflakes, milk)     0.05       3\n",
              "(cornflakes, milk, tea)         0.05       3\n",
              "\n",
              "[25 rows x 2 columns]"
            ]
          },
          "metadata": {},
          "execution_count": 16
        }
      ]
    },
    {
      "cell_type": "markdown",
      "metadata": {
        "id": "T9_ADbPND0xz"
      },
      "source": [
        "***4 Items combination***"
      ]
    },
    {
      "cell_type": "code",
      "metadata": {
        "colab": {
          "base_uri": "https://localhost:8080/",
          "height": 206
        },
        "id": "pRIR-ddQds-M",
        "outputId": "5f82691f-1b87-4c60-df52-ddf63df89c83"
      },
      "source": [
        "iteration4 = ar_iterations(df_out, num_iter=4, support_value=0.01,\n",
        "              iterationIndex=iteration3.index)\n",
        "iteration4"
      ],
      "execution_count": 17,
      "outputs": [
        {
          "output_type": "execute_result",
          "data": {
            "text/html": [
              "<div>\n",
              "<style scoped>\n",
              "    .dataframe tbody tr th:only-of-type {\n",
              "        vertical-align: middle;\n",
              "    }\n",
              "\n",
              "    .dataframe tbody tr th {\n",
              "        vertical-align: top;\n",
              "    }\n",
              "\n",
              "    .dataframe thead th {\n",
              "        text-align: right;\n",
              "    }\n",
              "</style>\n",
              "<table border=\"1\" class=\"dataframe\">\n",
              "  <thead>\n",
              "    <tr style=\"text-align: right;\">\n",
              "      <th></th>\n",
              "      <th>Support</th>\n",
              "      <th>length</th>\n",
              "    </tr>\n",
              "    <tr>\n",
              "      <th>index</th>\n",
              "      <th></th>\n",
              "      <th></th>\n",
              "    </tr>\n",
              "  </thead>\n",
              "  <tbody>\n",
              "    <tr>\n",
              "      <th>(coffee, cock, biscuit, cornflakes)</th>\n",
              "      <td>0.10</td>\n",
              "      <td>4</td>\n",
              "    </tr>\n",
              "    <tr>\n",
              "      <th>(tea, coffee, milk, cornflakes)</th>\n",
              "      <td>0.05</td>\n",
              "      <td>4</td>\n",
              "    </tr>\n",
              "    <tr>\n",
              "      <th>(tea, bread, maggi, biscuit)</th>\n",
              "      <td>0.05</td>\n",
              "      <td>4</td>\n",
              "    </tr>\n",
              "    <tr>\n",
              "      <th>(bread, biscuit, milk, cornflakes)</th>\n",
              "      <td>0.05</td>\n",
              "      <td>4</td>\n",
              "    </tr>\n",
              "  </tbody>\n",
              "</table>\n",
              "</div>"
            ],
            "text/plain": [
              "                                     Support  length\n",
              "index                                               \n",
              "(coffee, cock, biscuit, cornflakes)     0.10       4\n",
              "(tea, coffee, milk, cornflakes)         0.05       4\n",
              "(tea, bread, maggi, biscuit)            0.05       4\n",
              "(bread, biscuit, milk, cornflakes)      0.05       4"
            ]
          },
          "metadata": {},
          "execution_count": 17
        }
      ]
    },
    {
      "cell_type": "markdown",
      "metadata": {
        "id": "bEFfWDTl47cj"
      },
      "source": [
        "# **Using Apriori Association Rules**"
      ]
    },
    {
      "cell_type": "code",
      "metadata": {
        "id": "uh0drDz64GP2"
      },
      "source": [
        "# pip install pycaret"
      ],
      "execution_count": 18,
      "outputs": []
    },
    {
      "cell_type": "code",
      "metadata": {
        "colab": {
          "base_uri": "https://localhost:8080/",
          "height": 441
        },
        "id": "yoorb7AKd6u9",
        "outputId": "7b4bb2d8-74e9-4376-8529-7423f5844ac4"
      },
      "source": [
        "from mlxtend.frequent_patterns import apriori, association_rules\n",
        "# Apriori\n",
        "freq_items = apriori(df_out, min_support = 0.1, use_colnames = True, verbose = 1)\n",
        "freq_items.sort_values(\"support\", ascending = False)"
      ],
      "execution_count": 19,
      "outputs": [
        {
          "output_type": "stream",
          "name": "stdout",
          "text": [
            "\rProcessing 110 combinations | Sampling itemset size 2\rProcessing 234 combinations | Sampling itemset size 3\rProcessing 108 combinations | Sampling itemset size 4\n"
          ]
        },
        {
          "output_type": "execute_result",
          "data": {
            "text/html": [
              "<div>\n",
              "<style scoped>\n",
              "    .dataframe tbody tr th:only-of-type {\n",
              "        vertical-align: middle;\n",
              "    }\n",
              "\n",
              "    .dataframe tbody tr th {\n",
              "        vertical-align: top;\n",
              "    }\n",
              "\n",
              "    .dataframe thead th {\n",
              "        text-align: right;\n",
              "    }\n",
              "</style>\n",
              "<table border=\"1\" class=\"dataframe\">\n",
              "  <thead>\n",
              "    <tr style=\"text-align: right;\">\n",
              "      <th></th>\n",
              "      <th>support</th>\n",
              "      <th>itemsets</th>\n",
              "    </tr>\n",
              "  </thead>\n",
              "  <tbody>\n",
              "    <tr>\n",
              "      <th>2</th>\n",
              "      <td>0.65</td>\n",
              "      <td>(bread)</td>\n",
              "    </tr>\n",
              "    <tr>\n",
              "      <th>4</th>\n",
              "      <td>0.40</td>\n",
              "      <td>(coffee)</td>\n",
              "    </tr>\n",
              "    <tr>\n",
              "      <th>0</th>\n",
              "      <td>0.35</td>\n",
              "      <td>(biscuit)</td>\n",
              "    </tr>\n",
              "    <tr>\n",
              "      <th>10</th>\n",
              "      <td>0.35</td>\n",
              "      <td>(tea)</td>\n",
              "    </tr>\n",
              "    <tr>\n",
              "      <th>5</th>\n",
              "      <td>0.30</td>\n",
              "      <td>(cornflakes)</td>\n",
              "    </tr>\n",
              "    <tr>\n",
              "      <th>...</th>\n",
              "      <td>...</td>\n",
              "      <td>...</td>\n",
              "    </tr>\n",
              "    <tr>\n",
              "      <th>15</th>\n",
              "      <td>0.10</td>\n",
              "      <td>(biscuit, maggi)</td>\n",
              "    </tr>\n",
              "    <tr>\n",
              "      <th>16</th>\n",
              "      <td>0.10</td>\n",
              "      <td>(biscuit, milk)</td>\n",
              "    </tr>\n",
              "    <tr>\n",
              "      <th>17</th>\n",
              "      <td>0.10</td>\n",
              "      <td>(biscuit, tea)</td>\n",
              "    </tr>\n",
              "    <tr>\n",
              "      <th>22</th>\n",
              "      <td>0.10</td>\n",
              "      <td>(jam, bread)</td>\n",
              "    </tr>\n",
              "    <tr>\n",
              "      <th>45</th>\n",
              "      <td>0.10</td>\n",
              "      <td>(biscuit, coffee, cornflakes, cock)</td>\n",
              "    </tr>\n",
              "  </tbody>\n",
              "</table>\n",
              "<p>46 rows × 2 columns</p>\n",
              "</div>"
            ],
            "text/plain": [
              "    support                             itemsets\n",
              "2      0.65                              (bread)\n",
              "4      0.40                             (coffee)\n",
              "0      0.35                            (biscuit)\n",
              "10     0.35                                (tea)\n",
              "5      0.30                         (cornflakes)\n",
              "..      ...                                  ...\n",
              "15     0.10                     (biscuit, maggi)\n",
              "16     0.10                      (biscuit, milk)\n",
              "17     0.10                       (biscuit, tea)\n",
              "22     0.10                         (jam, bread)\n",
              "45     0.10  (biscuit, coffee, cornflakes, cock)\n",
              "\n",
              "[46 rows x 2 columns]"
            ]
          },
          "metadata": {},
          "execution_count": 19
        }
      ]
    },
    {
      "cell_type": "code",
      "metadata": {
        "colab": {
          "base_uri": "https://localhost:8080/",
          "height": 424
        },
        "id": "V3mMxRkV4iZi",
        "outputId": "c8407344-266a-4eae-9d16-86c61b2d8ba7"
      },
      "source": [
        "# Association Rules & Info\n",
        "df_ar = association_rules(freq_items, metric = \"confidence\", min_threshold = 0.5)\n",
        "df_ar"
      ],
      "execution_count": 20,
      "outputs": [
        {
          "output_type": "execute_result",
          "data": {
            "text/html": [
              "<div>\n",
              "<style scoped>\n",
              "    .dataframe tbody tr th:only-of-type {\n",
              "        vertical-align: middle;\n",
              "    }\n",
              "\n",
              "    .dataframe tbody tr th {\n",
              "        vertical-align: top;\n",
              "    }\n",
              "\n",
              "    .dataframe thead th {\n",
              "        text-align: right;\n",
              "    }\n",
              "</style>\n",
              "<table border=\"1\" class=\"dataframe\">\n",
              "  <thead>\n",
              "    <tr style=\"text-align: right;\">\n",
              "      <th></th>\n",
              "      <th>antecedents</th>\n",
              "      <th>consequents</th>\n",
              "      <th>antecedent support</th>\n",
              "      <th>consequent support</th>\n",
              "      <th>support</th>\n",
              "      <th>confidence</th>\n",
              "      <th>lift</th>\n",
              "      <th>leverage</th>\n",
              "      <th>conviction</th>\n",
              "    </tr>\n",
              "  </thead>\n",
              "  <tbody>\n",
              "    <tr>\n",
              "      <th>0</th>\n",
              "      <td>(biscuit)</td>\n",
              "      <td>(bread)</td>\n",
              "      <td>0.35</td>\n",
              "      <td>0.65</td>\n",
              "      <td>0.20</td>\n",
              "      <td>0.571429</td>\n",
              "      <td>0.879121</td>\n",
              "      <td>-0.0275</td>\n",
              "      <td>0.816667</td>\n",
              "    </tr>\n",
              "    <tr>\n",
              "      <th>1</th>\n",
              "      <td>(cock)</td>\n",
              "      <td>(biscuit)</td>\n",
              "      <td>0.15</td>\n",
              "      <td>0.35</td>\n",
              "      <td>0.10</td>\n",
              "      <td>0.666667</td>\n",
              "      <td>1.904762</td>\n",
              "      <td>0.0475</td>\n",
              "      <td>1.950000</td>\n",
              "    </tr>\n",
              "    <tr>\n",
              "      <th>2</th>\n",
              "      <td>(cornflakes)</td>\n",
              "      <td>(biscuit)</td>\n",
              "      <td>0.30</td>\n",
              "      <td>0.35</td>\n",
              "      <td>0.15</td>\n",
              "      <td>0.500000</td>\n",
              "      <td>1.428571</td>\n",
              "      <td>0.0450</td>\n",
              "      <td>1.300000</td>\n",
              "    </tr>\n",
              "    <tr>\n",
              "      <th>3</th>\n",
              "      <td>(bournvita)</td>\n",
              "      <td>(bread)</td>\n",
              "      <td>0.20</td>\n",
              "      <td>0.65</td>\n",
              "      <td>0.15</td>\n",
              "      <td>0.750000</td>\n",
              "      <td>1.153846</td>\n",
              "      <td>0.0200</td>\n",
              "      <td>1.400000</td>\n",
              "    </tr>\n",
              "    <tr>\n",
              "      <th>4</th>\n",
              "      <td>(bournvita)</td>\n",
              "      <td>(suger)</td>\n",
              "      <td>0.20</td>\n",
              "      <td>0.30</td>\n",
              "      <td>0.10</td>\n",
              "      <td>0.500000</td>\n",
              "      <td>1.666667</td>\n",
              "      <td>0.0400</td>\n",
              "      <td>1.400000</td>\n",
              "    </tr>\n",
              "    <tr>\n",
              "      <th>...</th>\n",
              "      <td>...</td>\n",
              "      <td>...</td>\n",
              "      <td>...</td>\n",
              "      <td>...</td>\n",
              "      <td>...</td>\n",
              "      <td>...</td>\n",
              "      <td>...</td>\n",
              "      <td>...</td>\n",
              "      <td>...</td>\n",
              "    </tr>\n",
              "    <tr>\n",
              "      <th>61</th>\n",
              "      <td>(biscuit, cock)</td>\n",
              "      <td>(coffee, cornflakes)</td>\n",
              "      <td>0.10</td>\n",
              "      <td>0.20</td>\n",
              "      <td>0.10</td>\n",
              "      <td>1.000000</td>\n",
              "      <td>5.000000</td>\n",
              "      <td>0.0800</td>\n",
              "      <td>inf</td>\n",
              "    </tr>\n",
              "    <tr>\n",
              "      <th>62</th>\n",
              "      <td>(coffee, cornflakes)</td>\n",
              "      <td>(biscuit, cock)</td>\n",
              "      <td>0.20</td>\n",
              "      <td>0.10</td>\n",
              "      <td>0.10</td>\n",
              "      <td>0.500000</td>\n",
              "      <td>5.000000</td>\n",
              "      <td>0.0800</td>\n",
              "      <td>1.800000</td>\n",
              "    </tr>\n",
              "    <tr>\n",
              "      <th>63</th>\n",
              "      <td>(coffee, cock)</td>\n",
              "      <td>(biscuit, cornflakes)</td>\n",
              "      <td>0.15</td>\n",
              "      <td>0.15</td>\n",
              "      <td>0.10</td>\n",
              "      <td>0.666667</td>\n",
              "      <td>4.444444</td>\n",
              "      <td>0.0775</td>\n",
              "      <td>2.550000</td>\n",
              "    </tr>\n",
              "    <tr>\n",
              "      <th>64</th>\n",
              "      <td>(cock, cornflakes)</td>\n",
              "      <td>(biscuit, coffee)</td>\n",
              "      <td>0.10</td>\n",
              "      <td>0.10</td>\n",
              "      <td>0.10</td>\n",
              "      <td>1.000000</td>\n",
              "      <td>10.000000</td>\n",
              "      <td>0.0900</td>\n",
              "      <td>inf</td>\n",
              "    </tr>\n",
              "    <tr>\n",
              "      <th>65</th>\n",
              "      <td>(cock)</td>\n",
              "      <td>(biscuit, coffee, cornflakes)</td>\n",
              "      <td>0.15</td>\n",
              "      <td>0.10</td>\n",
              "      <td>0.10</td>\n",
              "      <td>0.666667</td>\n",
              "      <td>6.666667</td>\n",
              "      <td>0.0850</td>\n",
              "      <td>2.700000</td>\n",
              "    </tr>\n",
              "  </tbody>\n",
              "</table>\n",
              "<p>66 rows × 9 columns</p>\n",
              "</div>"
            ],
            "text/plain": [
              "             antecedents                    consequents  antecedent support  \\\n",
              "0              (biscuit)                        (bread)                0.35   \n",
              "1                 (cock)                      (biscuit)                0.15   \n",
              "2           (cornflakes)                      (biscuit)                0.30   \n",
              "3            (bournvita)                        (bread)                0.20   \n",
              "4            (bournvita)                        (suger)                0.20   \n",
              "..                   ...                            ...                 ...   \n",
              "61       (biscuit, cock)           (coffee, cornflakes)                0.10   \n",
              "62  (coffee, cornflakes)                (biscuit, cock)                0.20   \n",
              "63        (coffee, cock)          (biscuit, cornflakes)                0.15   \n",
              "64    (cock, cornflakes)              (biscuit, coffee)                0.10   \n",
              "65                (cock)  (biscuit, coffee, cornflakes)                0.15   \n",
              "\n",
              "    consequent support  support  confidence       lift  leverage  conviction  \n",
              "0                 0.65     0.20    0.571429   0.879121   -0.0275    0.816667  \n",
              "1                 0.35     0.10    0.666667   1.904762    0.0475    1.950000  \n",
              "2                 0.35     0.15    0.500000   1.428571    0.0450    1.300000  \n",
              "3                 0.65     0.15    0.750000   1.153846    0.0200    1.400000  \n",
              "4                 0.30     0.10    0.500000   1.666667    0.0400    1.400000  \n",
              "..                 ...      ...         ...        ...       ...         ...  \n",
              "61                0.20     0.10    1.000000   5.000000    0.0800         inf  \n",
              "62                0.10     0.10    0.500000   5.000000    0.0800    1.800000  \n",
              "63                0.15     0.10    0.666667   4.444444    0.0775    2.550000  \n",
              "64                0.10     0.10    1.000000  10.000000    0.0900         inf  \n",
              "65                0.10     0.10    0.666667   6.666667    0.0850    2.700000  \n",
              "\n",
              "[66 rows x 9 columns]"
            ]
          },
          "metadata": {},
          "execution_count": 20
        }
      ]
    },
    {
      "cell_type": "code",
      "metadata": {
        "colab": {
          "base_uri": "https://localhost:8080/",
          "height": 300
        },
        "id": "bagMxFLF422-",
        "outputId": "f7d7062f-14b2-4c0d-d933-1e85ddcd0c05"
      },
      "source": [
        "df_ar[(df_ar.support > 0.15) & (df_ar.confidence > 0.5)].sort_values(\"confidence\", ascending = False)"
      ],
      "execution_count": 21,
      "outputs": [
        {
          "output_type": "execute_result",
          "data": {
            "text/html": [
              "<div>\n",
              "<style scoped>\n",
              "    .dataframe tbody tr th:only-of-type {\n",
              "        vertical-align: middle;\n",
              "    }\n",
              "\n",
              "    .dataframe tbody tr th {\n",
              "        vertical-align: top;\n",
              "    }\n",
              "\n",
              "    .dataframe thead th {\n",
              "        text-align: right;\n",
              "    }\n",
              "</style>\n",
              "<table border=\"1\" class=\"dataframe\">\n",
              "  <thead>\n",
              "    <tr style=\"text-align: right;\">\n",
              "      <th></th>\n",
              "      <th>antecedents</th>\n",
              "      <th>consequents</th>\n",
              "      <th>antecedent support</th>\n",
              "      <th>consequent support</th>\n",
              "      <th>support</th>\n",
              "      <th>confidence</th>\n",
              "      <th>lift</th>\n",
              "      <th>leverage</th>\n",
              "      <th>conviction</th>\n",
              "    </tr>\n",
              "  </thead>\n",
              "  <tbody>\n",
              "    <tr>\n",
              "      <th>8</th>\n",
              "      <td>(milk)</td>\n",
              "      <td>(bread)</td>\n",
              "      <td>0.25</td>\n",
              "      <td>0.65</td>\n",
              "      <td>0.2</td>\n",
              "      <td>0.800000</td>\n",
              "      <td>1.230769</td>\n",
              "      <td>0.0375</td>\n",
              "      <td>1.750000</td>\n",
              "    </tr>\n",
              "    <tr>\n",
              "      <th>18</th>\n",
              "      <td>(maggi)</td>\n",
              "      <td>(tea)</td>\n",
              "      <td>0.25</td>\n",
              "      <td>0.35</td>\n",
              "      <td>0.2</td>\n",
              "      <td>0.800000</td>\n",
              "      <td>2.285714</td>\n",
              "      <td>0.1125</td>\n",
              "      <td>3.250000</td>\n",
              "    </tr>\n",
              "    <tr>\n",
              "      <th>9</th>\n",
              "      <td>(suger)</td>\n",
              "      <td>(bread)</td>\n",
              "      <td>0.30</td>\n",
              "      <td>0.65</td>\n",
              "      <td>0.2</td>\n",
              "      <td>0.666667</td>\n",
              "      <td>1.025641</td>\n",
              "      <td>0.0050</td>\n",
              "      <td>1.050000</td>\n",
              "    </tr>\n",
              "    <tr>\n",
              "      <th>14</th>\n",
              "      <td>(cornflakes)</td>\n",
              "      <td>(coffee)</td>\n",
              "      <td>0.30</td>\n",
              "      <td>0.40</td>\n",
              "      <td>0.2</td>\n",
              "      <td>0.666667</td>\n",
              "      <td>1.666667</td>\n",
              "      <td>0.0800</td>\n",
              "      <td>1.800000</td>\n",
              "    </tr>\n",
              "    <tr>\n",
              "      <th>16</th>\n",
              "      <td>(suger)</td>\n",
              "      <td>(coffee)</td>\n",
              "      <td>0.30</td>\n",
              "      <td>0.40</td>\n",
              "      <td>0.2</td>\n",
              "      <td>0.666667</td>\n",
              "      <td>1.666667</td>\n",
              "      <td>0.0800</td>\n",
              "      <td>1.800000</td>\n",
              "    </tr>\n",
              "    <tr>\n",
              "      <th>0</th>\n",
              "      <td>(biscuit)</td>\n",
              "      <td>(bread)</td>\n",
              "      <td>0.35</td>\n",
              "      <td>0.65</td>\n",
              "      <td>0.2</td>\n",
              "      <td>0.571429</td>\n",
              "      <td>0.879121</td>\n",
              "      <td>-0.0275</td>\n",
              "      <td>0.816667</td>\n",
              "    </tr>\n",
              "    <tr>\n",
              "      <th>10</th>\n",
              "      <td>(tea)</td>\n",
              "      <td>(bread)</td>\n",
              "      <td>0.35</td>\n",
              "      <td>0.65</td>\n",
              "      <td>0.2</td>\n",
              "      <td>0.571429</td>\n",
              "      <td>0.879121</td>\n",
              "      <td>-0.0275</td>\n",
              "      <td>0.816667</td>\n",
              "    </tr>\n",
              "    <tr>\n",
              "      <th>19</th>\n",
              "      <td>(tea)</td>\n",
              "      <td>(maggi)</td>\n",
              "      <td>0.35</td>\n",
              "      <td>0.25</td>\n",
              "      <td>0.2</td>\n",
              "      <td>0.571429</td>\n",
              "      <td>2.285714</td>\n",
              "      <td>0.1125</td>\n",
              "      <td>1.750000</td>\n",
              "    </tr>\n",
              "  </tbody>\n",
              "</table>\n",
              "</div>"
            ],
            "text/plain": [
              "     antecedents consequents  antecedent support  consequent support  support  \\\n",
              "8         (milk)     (bread)                0.25                0.65      0.2   \n",
              "18       (maggi)       (tea)                0.25                0.35      0.2   \n",
              "9        (suger)     (bread)                0.30                0.65      0.2   \n",
              "14  (cornflakes)    (coffee)                0.30                0.40      0.2   \n",
              "16       (suger)    (coffee)                0.30                0.40      0.2   \n",
              "0      (biscuit)     (bread)                0.35                0.65      0.2   \n",
              "10         (tea)     (bread)                0.35                0.65      0.2   \n",
              "19         (tea)     (maggi)                0.35                0.25      0.2   \n",
              "\n",
              "    confidence      lift  leverage  conviction  \n",
              "8     0.800000  1.230769    0.0375    1.750000  \n",
              "18    0.800000  2.285714    0.1125    3.250000  \n",
              "9     0.666667  1.025641    0.0050    1.050000  \n",
              "14    0.666667  1.666667    0.0800    1.800000  \n",
              "16    0.666667  1.666667    0.0800    1.800000  \n",
              "0     0.571429  0.879121   -0.0275    0.816667  \n",
              "10    0.571429  0.879121   -0.0275    0.816667  \n",
              "19    0.571429  2.285714    0.1125    1.750000  "
            ]
          },
          "metadata": {},
          "execution_count": 21
        }
      ]
    }
  ]
}